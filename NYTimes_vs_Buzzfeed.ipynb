{
 "cells": [
  {
   "cell_type": "code",
   "execution_count": 1,
   "metadata": {
    "collapsed": true
   },
   "outputs": [],
   "source": [
    "%matplotlib inline\n",
    "import pymongo\n",
    "from datetime import datetime\n",
    "from stop_words import get_stop_words\n",
    "import pandas as pd\n",
    "import numpy as np\n",
    "import re\n",
    "import matplotlib.pyplot as plt\n",
    "s=get_stop_words('english')+[\" \",'']\n",
    "pd.set_option(\"display.max_rows\",30)"
   ]
  },
  {
   "cell_type": "code",
   "execution_count": 2,
   "metadata": {
    "collapsed": false
   },
   "outputs": [],
   "source": [
    "connection=pymongo.MongoClient(\"mongodb://localhost\")['News']['Headlines']\n",
    "buzzfeed=pd.DataFrame(list(connection.find({'site':'buzzfeed'}).limit(500)))\n",
    "nytimes=pd.DataFrame(list(connection.find({'site':'ny_times'}).skip(600).limit(500)))"
   ]
  },
  {
   "cell_type": "code",
   "execution_count": 3,
   "metadata": {
    "collapsed": false
   },
   "outputs": [],
   "source": [
    "buzzfeed.drop('_id', axis=1, inplace=True)\n",
    "nytimes.drop('_id', axis=1, inplace=True)\n"
   ]
  },
  {
   "cell_type": "code",
   "execution_count": 4,
   "metadata": {
    "collapsed": false
   },
   "outputs": [
    {
     "name": "stdout",
     "output_type": "stream",
     "text": [
      "192\n",
      "8\n"
     ]
    }
   ],
   "source": [
    "print(len(buzzfeed[buzzfeed.title.str.match('\\d')]))\n",
    "print(len(nytimes[nytimes.title.str.match('\\d')])) "
   ]
  },
  {
   "cell_type": "code",
   "execution_count": 5,
   "metadata": {
    "collapsed": false
   },
   "outputs": [
    {
     "name": "stdout",
     "output_type": "stream",
     "text": [
      "230\n",
      "96\n"
     ]
    }
   ],
   "source": [
    "print(len(buzzfeed[buzzfeed.title.str.contains('\\d')]))\n",
    "print(len(nytimes[nytimes.title.str.contains('\\d')])) "
   ]
  },
  {
   "cell_type": "code",
   "execution_count": 7,
   "metadata": {
    "collapsed": false
   },
   "outputs": [
    {
     "name": "stdout",
     "output_type": "stream",
     "text": [
      "10\n",
      "0\n"
     ]
    }
   ],
   "source": [
    "print(len(buzzfeed[buzzfeed.title.str.match(\"Here's\")]))\n",
    "print(len(nytimes[nytimes.title.str.match(\"Here's\")]))#Here's, This, These, "
   ]
  },
  {
   "cell_type": "code",
   "execution_count": 8,
   "metadata": {
    "collapsed": false
   },
   "outputs": [
    {
     "name": "stdout",
     "output_type": "stream",
     "text": [
      "47\n",
      "1\n"
     ]
    }
   ],
   "source": [
    "print(len(buzzfeed[buzzfeed.title.str.match(\"This\")]))\n",
    "print(len(nytimes[nytimes.title.str.match(\"This\")]))#Here's, This, These, "
   ]
  },
  {
   "cell_type": "code",
   "execution_count": 9,
   "metadata": {
    "collapsed": false
   },
   "outputs": [
    {
     "name": "stdout",
     "output_type": "stream",
     "text": [
      "4\n",
      "0\n"
     ]
    }
   ],
   "source": [
    "print(len(buzzfeed[buzzfeed.title.str.match(\"These\")]))\n",
    "print(len(nytimes[nytimes.title.str.match(\"These\")]))#Here's, This, These, "
   ]
  },
  {
   "cell_type": "code",
   "execution_count": 10,
   "metadata": {
    "collapsed": false
   },
   "outputs": [
    {
     "name": "stdout",
     "output_type": "stream",
     "text": [
      "47\n",
      "5\n"
     ]
    }
   ],
   "source": [
    "print(len(buzzfeed[buzzfeed.title.str.endswith('?')]))\n",
    "print(len(nytimes[nytimes.title.str.endswith(\"?\")]))"
   ]
  },
  {
   "cell_type": "code",
   "execution_count": 11,
   "metadata": {
    "collapsed": false
   },
   "outputs": [],
   "source": [
    "nytimes.index=nytimes.site\n",
    "buzzfeed.index=buzzfeed.site\n",
    "ny_titles=nytimes.ix[:,1]\n",
    "buzz_titles=buzzfeed.ix[:,1]\n"
   ]
  },
  {
   "cell_type": "code",
   "execution_count": 12,
   "metadata": {
    "collapsed": false
   },
   "outputs": [],
   "source": [
    "ny=ny_titles.str.lower().str.replace(\"[^\\w\\s#]\",'').str.split().apply(pd.Series, 1).stack()\n",
    "buzz=buzz_titles.str.lower().str.replace(\"[^\\w\\s#]\",'').str.split().apply(pd.Series, 1).stack()"
   ]
  },
  {
   "cell_type": "code",
   "execution_count": 13,
   "metadata": {
    "collapsed": false
   },
   "outputs": [],
   "source": [
    "ny.index= ny.index.droplevel(-1)\n",
    "buzz.index=buzz.index.droplevel(-1)"
   ]
  },
  {
   "cell_type": "code",
   "execution_count": 14,
   "metadata": {
    "collapsed": false
   },
   "outputs": [],
   "source": [
    "ny=ny[~ny.isin(s)]\n",
    "buzz=buzz[~buzz.isin(s)]"
   ]
  },
  {
   "cell_type": "code",
   "execution_count": 15,
   "metadata": {
    "collapsed": false
   },
   "outputs": [],
   "source": [
    "ny_count=ny.value_counts()\n",
    "buzz_count=buzz.value_counts()"
   ]
  },
  {
   "cell_type": "code",
   "execution_count": 17,
   "metadata": {
    "collapsed": false
   },
   "outputs": [
    {
     "data": {
      "text/plain": [
       "site\n",
       "buzzfeed        clipon\n",
       "buzzfeed           man\n",
       "buzzfeed          buns\n",
       "buzzfeed    absolutely\n",
       "buzzfeed          must\n",
       "buzzfeed       stopped\n",
       "buzzfeed         first\n",
       "buzzfeed       finding\n",
       "buzzfeed          dory\n",
       "buzzfeed       trailer\n",
       "buzzfeed      suggests\n",
       "buzzfeed          dory\n",
       "buzzfeed          went\n",
       "buzzfeed       missing\n",
       "buzzfeed            21\n",
       "               ...    \n",
       "buzzfeed       colbert\n",
       "buzzfeed         broke\n",
       "buzzfeed          news\n",
       "buzzfeed         paris\n",
       "buzzfeed       victims\n",
       "buzzfeed         paris\n",
       "buzzfeed       attacks\n",
       "buzzfeed        syrian\n",
       "buzzfeed      refugees\n",
       "buzzfeed        france\n",
       "buzzfeed           say\n",
       "buzzfeed         paris\n",
       "buzzfeed        terror\n",
       "buzzfeed        terror\n",
       "buzzfeed          fled\n",
       "dtype: object"
      ]
     },
     "execution_count": 17,
     "metadata": {},
     "output_type": "execute_result"
    }
   ],
   "source": [
    "buzz"
   ]
  },
  {
   "cell_type": "code",
   "execution_count": 18,
   "metadata": {
    "collapsed": false
   },
   "outputs": [
    {
     "name": "stdout",
     "output_type": "stream",
     "text": [
      "paris    33\n",
      "dtype: int64\n",
      "paris    18\n",
      "dtype: int64\n"
     ]
    }
   ],
   "source": [
    "print(buzz_count[buzz_count.index=='paris'])\n",
    "print(ny_count[ny_count.index=='paris'])"
   ]
  },
  {
   "cell_type": "code",
   "execution_count": 31,
   "metadata": {
    "collapsed": true
   },
   "outputs": [],
   "source": [
    "Buzzfeed_Test=['27 People Who Have Better Job Titles Than You',\n",
    "               'This Woman Is Trying To Make Fake Freckles The Next Big Beauty Trend',\n",
    "               'Someone Used 500 Dick Pics To Make A Regal Portrait Of Donald Trump',\n",
    "               \"Here's How Much It Actually Costs To Be A Bridesmaid\",\n",
    "               \"Chocolate Abuelita Is The Best Thing Ever And Here's Why\",\n",
    "               \"What It's Actually Like Being Vegetarian On Thanksgiving\",\n",
    "               'Freddie From \"ICarly\" Got Hitched And Your Childhood Is Now Over',\n",
    "               \"17 Mouthwatering Risottos Guaranteed To Change Your Life\",\n",
    "               \"Let's Settle This Once And For All: How Should Dogs Wear Pants?\",\n",
    "               \"These Twin Astronauts Have The Most Epic Sibling Rivalry Ever\",\n",
    "              ]\n",
    "NY_Test=['Chicago Wins Bid to Host Obama Library',\n",
    "        \"Christie Sidesteps New Jersey Bridge Scandal in ’16 Race\",\n",
    "        \"Report Assails Baltimore Police’s Response to Unrest\",\n",
    "        \"Times Square’s Biggest and Most Expensive Digital Billboard Is Set to Shine\",\n",
    "        \"Obama Defends His Strategy on ISIS\",\n",
    "        \"Democrats Question Republican-Led Inquiry Into Hillary Clinton’s Aide\",\n",
    "        \"Why Has Trust in the News Media Declined?\",\n",
    "        \"Taking Stock of the $10 Billion Washington Spent on Colombia’s War\",\n",
    "        \"Slim Hopes Are Dashed as Rutgers Peters Out\",\n",
    "        \"End of China’s One-Child Policy Stings Its ‘Loneliest Generation\"]\n"
   ]
  },
  {
   "cell_type": "code",
   "execution_count": 26,
   "metadata": {
    "collapsed": false
   },
   "outputs": [],
   "source": [
    "def first_word_frac(test_title):\n",
    "    if re.match(r'\\d',test_title):\n",
    "        buzz_val=len(buzzfeed[buzzfeed.title.str.match('\\d')])\n",
    "        ny_val=len(nytimes[nytimes.title.str.match('\\d')])\n",
    "    else:\n",
    "        first_word=test_title.split(' ')[0]\n",
    "        buzz_val=len(buzzfeed[buzzfeed.title.str.match(first_word)])\n",
    "        ny_val=len(nytimes[nytimes.title.str.match(first_word)])\n",
    "        if buzz_val+ny_val==0:\n",
    "            return {'buzz_frac':0,'ny_frac':0}\n",
    "    return {'buzz_frac':buzz_val/(ny_val+buzz_val),'ny_frac':ny_val/(ny_val+buzz_val)}\n",
    "    "
   ]
  },
  {
   "cell_type": "code",
   "execution_count": 34,
   "metadata": {
    "collapsed": false
   },
   "outputs": [],
   "source": [
    "def word_prob(test_title,buzz_frac,ny_frac):\n",
    "    for word in re.sub(r'[^\\w\\s#]','',test_title).lower().split():\n",
    "        b=buzz_count[buzz_count.index==word]\n",
    "        n=ny_count[ny_count.index==word]\n",
    "        if not b.empty and n.empty:\n",
    "            buzz_frac=(1+buzz_frac)/2\n",
    "            ny_frac=ny_frac/2\n",
    "        elif b.empty and not n.empty:\n",
    "            buzz_frac=buzz_frac/2\n",
    "            ny_frac=(1+ny_frac)/2\n",
    "        elif not b.empty and not n.empty:\n",
    "            buzz_frac=(b.item()/(b.item()+n.item())+buzz_frac)/2\n",
    "            ny_frac=(n.item()/(b.item()+n.item())+ny_frac)/2\n",
    "            \n",
    "    if buzz_frac > ny_frac:\n",
    "        print(\"Buzzfeed Title\")\n",
    "    elif buzz_frac < ny_frac:\n",
    "        print(\"NY Times Title\")\n",
    "    else:\n",
    "        print(\"Undecided\")\n",
    "    "
   ]
  },
  {
   "cell_type": "code",
   "execution_count": 35,
   "metadata": {
    "collapsed": false
   },
   "outputs": [
    {
     "name": "stdout",
     "output_type": "stream",
     "text": [
      "NY Times Title\n",
      "Buzzfeed Title\n",
      "NY Times Title\n",
      "Buzzfeed Title\n",
      "Buzzfeed Title\n",
      "Buzzfeed Title\n",
      "Buzzfeed Title\n",
      "Buzzfeed Title\n",
      "NY Times Title\n",
      "Buzzfeed Title\n"
     ]
    }
   ],
   "source": [
    "for title in Buzzfeed_Test:\n",
    "    dic=first_word_frac(title)\n",
    "    word_prob(title,**dic)"
   ]
  },
  {
   "cell_type": "code",
   "execution_count": 36,
   "metadata": {
    "collapsed": false
   },
   "outputs": [
    {
     "name": "stdout",
     "output_type": "stream",
     "text": [
      "NY Times Title\n",
      "NY Times Title\n",
      "Undecided\n",
      "NY Times Title\n",
      "NY Times Title\n",
      "NY Times Title\n",
      "NY Times Title\n",
      "Buzzfeed Title\n",
      "NY Times Title\n",
      "NY Times Title\n"
     ]
    }
   ],
   "source": [
    "for title in NY_Test:\n",
    "    dic=first_word_frac(title)\n",
    "    word_prob(title,**dic)\n",
    "    "
   ]
  }
 ],
 "metadata": {
  "kernelspec": {
   "display_name": "Python 3",
   "language": "python",
   "name": "python3"
  },
  "language_info": {
   "codemirror_mode": {
    "name": "ipython",
    "version": 3
   },
   "file_extension": ".py",
   "mimetype": "text/x-python",
   "name": "python",
   "nbconvert_exporter": "python",
   "pygments_lexer": "ipython3",
   "version": "3.4.3"
  }
 },
 "nbformat": 4,
 "nbformat_minor": 0
}
